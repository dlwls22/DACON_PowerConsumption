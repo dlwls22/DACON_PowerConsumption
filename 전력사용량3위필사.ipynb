{
 "cells": [
  {
   "cell_type": "code",
   "execution_count": null,
   "metadata": {},
   "outputs": [],
   "source": [
    "import pandas as pd\n",
    "import numpy as np\n",
    "import random\n",
    "import seaborn as sns\n",
    "import matplotlib.pyplot as plt\n",
    "\n",
    "from sklearn.model_selection import KFold\n",
    "from xgboost import XGBRegressor"
   ]
  },
  {
   "cell_type": "code",
   "execution_count": null,
   "metadata": {},
   "outputs": [],
   "source": [
    "RANDOM_SEED = 42\n",
    "np.random.seed(RANDOM_SEED)\n",
    "random.seed(RANDOM_SEED)"
   ]
  },
  {
   "cell_type": "code",
   "execution_count": null,
   "metadata": {},
   "outputs": [],
   "source": [
    "def smape(gt, preds):\n",
    "    gt = np.array(gt)\n",
    "    preds = np.array(preds)\n",
    "    v = 2 * abs(preds - gt) / (abs(preds) + abs(gt))\n",
    "    score = np.mean(v) * 100\n",
    "\n",
    "    return score"
   ]
  },
  {
   "cell_type": "code",
   "execution_count": null,
   "metadata": {},
   "outputs": [],
   "source": [
    "def weighted_mse(alpha = 1):\n",
    "    def weighted_mse_fixed(label, pred):\n",
    "        residual = (label, pred).astype('float')\n",
    "        grad = np.where(residual > 0, -2 * alpha * residual, -2 * residual)\n",
    "        hess = np.where(residual > 0, 2 * alpha, 2.0)\n",
    "\n",
    "        return grad, hess\n",
    "    return weighted_mse_fixed"
   ]
  },
  {
   "cell_type": "code",
   "execution_count": null,
   "metadata": {},
   "outputs": [],
   "source": [
    "def custom_smape(preds, dtrain):\n",
    "    labels = dtrain.get_label()\n",
    "\n",
    "    return 'custom_smape', np.mean(2 * abs(preds - labels) / (abs(preds) + abs(labels))) * 100"
   ]
  },
  {
   "cell_type": "code",
   "execution_count": null,
   "metadata": {},
   "outputs": [],
   "source": [
    "train = pd.read_csv(r'C:\\Users\\dlwks\\OneDrive\\바탕 화면\\VSCode\\DACON_전력사용량\\base_path\\train.csv')\n",
    "test = pd.read_csv(r'C:\\Users\\dlwks\\OneDrive\\바탕 화면\\VSCode\\DACON_전력사용량\\base_path\\test.csv')\n",
    "building_info = pd.read_csv(r'C:\\Users\\dlwks\\OneDrive\\바탕 화면\\VSCode\\DACON_전력사용량\\base_path\\building_info.csv')"
   ]
  },
  {
   "cell_type": "code",
   "execution_count": null,
   "metadata": {},
   "outputs": [],
   "source": [
    "display(train)\n",
    "display(test)\n",
    "display(building_info)"
   ]
  },
  {
   "cell_type": "code",
   "execution_count": null,
   "metadata": {},
   "outputs": [],
   "source": [
    "train = train.rename(columns = {\n",
    "    '건물번호': 'building_number',\n",
    "    '일시': 'date_time',\n",
    "    '기온(C)': 'temperature',\n",
    "    '강수량(mm)': 'rainfall',\n",
    "    '풍속(m/s)': 'windspeed',\n",
    "    '습도(%)': 'humidity',\n",
    "    '일조(hr)': 'sunshine',\n",
    "    '일사(MJ/m2)': 'solar_radiation',\n",
    "    '전력소비량(kWh)': 'power_consumption'\n",
    "})\n",
    "\n",
    "train.drop('num_date_time', axis = 1, inplace = True)\n",
    "\n",
    "test = test.rename(columns = {\n",
    "    '건물번호': 'building_number',\n",
    "    '일시': 'date_time',\n",
    "    '기온(C)': 'temperature',\n",
    "    '강수량(mm)': 'rainfall',\n",
    "    '풍속(m/s)': 'windspeed',\n",
    "    '습도(%)': 'humidity',\n",
    "    '일조(hr)': 'sunshine',\n",
    "    '일사(MJ/m2)': 'solar_radiation',\n",
    "    '전력소비량(kWh)': 'power_consumption'\n",
    "})\n",
    "\n",
    "test.drop('num_date_time', axis = 1, inplace = True)\n",
    "\n",
    "building_info = building_info.rename(columns={\n",
    "    '건물번호': 'building_number',\n",
    "    '건물유형': 'building_type',\n",
    "    '연면적(m2)': 'total_area',\n",
    "    '냉방면적(m2)': 'cooling_area',\n",
    "    '태양광용량(kW)': 'solar_power_capacity',\n",
    "    'ESS저장용량(kWh)': 'ess_capacity',\n",
    "    'PCS용량(kW)': 'pcs_capacity'\n",
    "})"
   ]
  },
  {
   "cell_type": "code",
   "execution_count": null,
   "metadata": {},
   "outputs": [],
   "source": [
    "translation_dict = {\n",
    "    '건물기타': 'Other Buildings',\n",
    "    '공공': 'Public',\n",
    "    '대학교': 'University',\n",
    "    '데이터센터': 'Data Center',\n",
    "    '백화점및아울렛': 'Department Store and Outlet',\n",
    "    '병원': 'Hospital',\n",
    "    '상용': 'Commercial',\n",
    "    '아파트': 'Apartment',\n",
    "    '연구소': 'Research Institute',\n",
    "    '지식산업센터': 'Knowledge Industry Center',\n",
    "    '할인마트': 'Discount Mart',\n",
    "    '호텔및리조트': 'Hotel and Resort'\n",
    "}\n",
    "\n",
    "building_info['building_type'] = building_info['building_type'].replace(translation_dict)"
   ]
  },
  {
   "cell_type": "code",
   "execution_count": null,
   "metadata": {},
   "outputs": [],
   "source": [
    "building_info['solar_power_utility'] = np.where(building_info.solar_power_capacity != '-', 1, 0)\n",
    "building_info['ess_utility'] = np.where(building_info.ess_capacity != '-', 1, 0)"
   ]
  },
  {
   "cell_type": "code",
   "execution_count": null,
   "metadata": {},
   "outputs": [],
   "source": [
    "train = pd.merge(train, building_info, on = 'building_number', how = 'left')\n",
    "test = pd.merge(test, building_info, on = 'building_number', how = 'left')"
   ]
  },
  {
   "cell_type": "code",
   "execution_count": null,
   "metadata": {},
   "outputs": [],
   "source": [
    "train.isna().sum()"
   ]
  },
  {
   "cell_type": "code",
   "execution_count": null,
   "metadata": {},
   "outputs": [],
   "source": [
    "display(train.solar_power_capacity.value_counts())\n",
    "display(train.ess_capacity.value_counts())\n",
    "display(train.pcs_capacity.value_counts())"
   ]
  },
  {
   "cell_type": "code",
   "execution_count": null,
   "metadata": {},
   "outputs": [],
   "source": [
    "train['windspeed'] = train.windspeed.interpolate()\n",
    "train['humidity'] = train.humidity.interpolate()"
   ]
  },
  {
   "cell_type": "code",
   "execution_count": null,
   "metadata": {},
   "outputs": [],
   "source": [
    "train['date_time'] = pd.to_datetime(train['date_time'], format = '%Y%m%d %H')\n",
    "\n",
    "train['hour'] = train['date_time'].dt.hour\n",
    "train['day'] = train['date_time'].dt.day\n",
    "train['month'] = train['date_time'].dt.month\n",
    "train['day_of_week'] = train['date_time'].dt.dayofweek\n",
    "\n",
    "test['date_time'] = pd.to_datetime(test['date_time'], format = '%Y%m%d %H')\n",
    "\n",
    "test['hour'] = test['date_time'].dt.hour\n",
    "test['day'] = test['date_time'].dt.day\n",
    "test['month'] = test['date_time'].dt.month\n",
    "test['day_of_week'] = test['date_time'].dt.dayofweek"
   ]
  },
  {
   "cell_type": "code",
   "execution_count": null,
   "metadata": {},
   "outputs": [],
   "source": [
    "def calculate_day_values(dataframe, target_column, output_column, aggregation_func):\n",
    "    result_dict = {}\n",
    "\n",
    "    grouped_temp = dataframe.groupby(['building_number', 'month', 'day'])[target_column].agg(aggregation_func)\n",
    "\n",
    "    for (building, month, day), value in grouped_temp.items():\n",
    "        result_dict.setdefault(building, {}).setdefault(month, {})[day] = value\n",
    "\n",
    "    dataframe[output_column] = [\n",
    "        result_dict.get(row['building_number'], {}).get(row['month'], {}).get(row['day'], None)\n",
    "        for _, row in dataframe.iterrows()\n",
    "    ]\n",
    "\n",
    "train['day_max_temperature'] = 0.0\n",
    "train['day_mean_temperature'] = 0.0\n",
    "\n",
    "calculate_day_values(train, 'temperature', 'day_max_temperature', 'max')\n",
    "calculate_day_values(train, 'temperature', 'day_mean_temperature', 'mean')\n",
    "calculate_day_values(train, 'temperature', 'day_min_temperature', 'min')\n",
    "\n",
    "train['day_temperature_range'] = train['day_max_temperature'] - train['day_min_temperature']\n",
    "\n",
    "calculate_day_values(test, 'temperature', 'day_max_temperature', 'max')\n",
    "calculate_day_values(test, 'temperature', 'day_mean_temperature', 'mean')\n",
    "calculate_day_values(test, 'temperature', 'day_min_temperature', 'min')\n",
    "\n",
    "test['day_temperature_range'] = test['day_max_temperature'] - test['day_min_temperature']"
   ]
  },
  {
   "cell_type": "code",
   "execution_count": null,
   "metadata": {},
   "outputs": [],
   "source": [
    "# Outlier Drop\n",
    "outlier_list = [68973,71013,112384,123132,150739,150740,150741,150742,\n",
    "                150883,150884,150885,150886,138904,193120,193121,152393]\n",
    "\n",
    "train.drop(outlier_list, axis = 0, inplace = True)"
   ]
  },
  {
   "cell_type": "code",
   "execution_count": null,
   "metadata": {},
   "outputs": [],
   "source": [
    "# 임시 휴무 추측 데이터 Drop\n",
    "temp_hol = {\n",
    "    2 : ['2022-06-17'], \n",
    "    5 : ['2022-07-25','2022-08-02','2022-08-09','2022-08-16'],\n",
    "    11 : ['2022-06-17'], \n",
    "    12 : ['2022-07-02'], \n",
    "    17 : ['2022-06-18','2022-07-25'],\n",
    "    21 : ['2022-07-01','2022-07-03','2022-07-17','2022-07-30'], \n",
    "    37 : ['2022-06-20','2022-07-11','2022-08-08'], \n",
    "    38 : ['2022-06-13','2022-07-25','2022-08-01'],\n",
    "    39 : ['2022-07-18','2022-08-08'],\n",
    "    40 : ['2022-06-20','2022-07-18','2022-08-08'],\n",
    "    41 : ['2022-06-27','2022-07-25','2022-08-08'],\n",
    "    42 : ['2022-06-13','2022-07-11','2022-08-22'],\n",
    "    54 : ['2022-08-16','2022-08-17'],\n",
    "    74 : ['2022-06-03'],\n",
    "    75 : ['2022-06-15','2022-06-17','2022-06-20','2022-06-21'],\n",
    "    86 : ['2022-06-10','2022-08-10'],\n",
    "    89 : ['2022-07-09'], \n",
    "    91 : ['2022-06-13','2022-07-11','2022-08-22','2022-06-08'], \n",
    "    92 : ['2022-07-30']\n",
    "    }\n",
    "\n",
    "\n",
    "mask = train.apply(lambda x: x['building_number'] in temp_hol and str(x['date_time'])[:10] in temp_hol[x['building_number']], axis = 1)\n",
    "\n",
    "train.drop(train[mask].index, axis = 0, inplace = True)\n",
    "\n",
    "train.reset_index(drop = True, inplace = True)"
   ]
  },
  {
   "cell_type": "code",
   "execution_count": null,
   "metadata": {},
   "outputs": [],
   "source": [
    "# 공휴일 변수\n",
    "holi_weekday = ['2022-06-01', '2022-06-06', '2022-08-15']\n",
    "\n",
    "train['holiday'] = np.where((train.day_of_week >= 5) | (train.date_time.dt.strftime('%Y-%m-%d').isin(holi_weekday)), 1, 0)\n",
    "test['holiday'] = np.where((test.day_of_week >= 5) | (test.date_time.dt.strftime('%Y-%m-%d').isin(holi_weekday)), 1, 0)"
   ]
  },
  {
   "cell_type": "code",
   "execution_count": null,
   "metadata": {},
   "outputs": [],
   "source": [
    "# 대형마트 휴뮤\n",
    "holi_mart = ['2022-06-12', '2022-06-26', '2022-07-10', '2022-07-24', '2022-08-14', '2022-08-28']\n",
    "\n",
    "train['Mart_holiday'] = np.where((train.day_of_week == 6) & (train.date_time.dt.strftime('%Y-%m-%d').isin(holi_mart)), 1, 0)\n",
    "test['Mart_holiday'] = np.where((test.day_of_week == 6) & (test.date_time.dt.strftime('%Y-%m-%d').isin(holi_mart)), 1, 0)"
   ]
  },
  {
   "cell_type": "code",
   "execution_count": null,
   "metadata": {},
   "outputs": [],
   "source": [
    "# 날짜\n",
    "train['sin_date'] = -np.sin(2 * np.pi * (train['month'] + train['day'] / 31) / 12)\n",
    "train['cos_date'] = -np.cos(2 * np.pi * (train['month'] + train['day'] / 31) / 12)\n",
    "test['sin_date'] = -np.sin(2 * np.pi * (test['month'] + test['day'] / 31) / 12)\n",
    "test['cos_date'] = -np.cos(2 * np.pi * (test['month'] + test['day'] / 31) / 12)\n",
    "\n",
    "# 월\n",
    "train['sin_month'] = -np.sin(2 * np.pi * train['month'] / 12.0)\n",
    "train['cos_month'] = -np.cos(2 * np.pi * train['month'] / 12.0)\n",
    "test['sin_month'] = -np.sin(2 * np.pi * train['month'] / 12.0)\n",
    "test['cos_month'] = -np.cos(2 * np.pi * train['month'] / 12.0)\n",
    "\n",
    "# 요일\n",
    "train['sin_dayofweek'] = -np.sin(2 * np.pi * (train['day_of_week'] + 1) / 7.0)\n",
    "train['cos_dayofweek'] = -np.cos(2 * np.pi * (train['day_of_week'] + 1) / 7.0)\n",
    "test['sin_dayofweek'] = -np.sin(2 * np.pi * (train['day_of_week'] + 1) / 7.0)\n",
    "test['cos_dayofweek'] = -np.cos(2 * np.pi * (train['day_of_week'] + 1) / 7.0)\n",
    "\n",
    "# 시간\n",
    "train['sin_hour'] = np.sin(2 * np.pi * train['hour'] / 23.0)\n",
    "train['cos_hour'] = np.cos(2 * np.pi * train['hour'] / 23.0)\n",
    "test['sin_hour'] = np.sin(2 * np.pi * test['hour'] / 23.0)\n",
    "test['cos_hour'] = np.cos(2 * np.pi * test['hour'] / 23.0)\n",
    "\n",
    "# 주기성을 가지면 -를 붙임\n",
    "# 시간은 연속성이기에 -를 안 붙임"
   ]
  },
  {
   "cell_type": "code",
   "execution_count": null,
   "metadata": {},
   "outputs": [],
   "source": [
    "# CDH (냉방도시)\n",
    "def CDH(xs):\n",
    "    cumsum = np.cumsum(xs - 26)\n",
    "\n",
    "    return np.concatenate((cumsum[: 11], cumsum[11 :] - cumsum[: -11]))\n",
    "\n",
    "def calculate_and_add_cdh(dataframe):\n",
    "    cdhs = []\n",
    "    for i in range(1, 101):\n",
    "        temp = dataframe[dataframe['building_number'] == i]['temperature'].values\n",
    "        cdh = CDH(temp)\n",
    "        cdhs.append(cdh)\n",
    "\n",
    "    return np.concatenate(cdhs)\n",
    "\n",
    "train['CDH'] = calculate_and_add_cdh(train)\n",
    "test['CDH'] = calculate_and_add_cdh(test)"
   ]
  },
  {
   "cell_type": "code",
   "execution_count": null,
   "metadata": {},
   "outputs": [],
   "source": [
    "# THI (불쾌지수)\n",
    "train['THI'] = 9 / 5 * train['temperature'] - 0.55 * (1 - train['humidity'] / 100) * (9 / 5 * train['humidity'] - 26) + 32\n",
    "test['THI'] = 9 / 5 * test['temperature'] - 0.55 * (1 - test['humidity'] / 100) * (9 / 5 * test['humidity'] - 26) + 32"
   ]
  },
  {
   "cell_type": "code",
   "execution_count": null,
   "metadata": {},
   "outputs": [],
   "source": [
    "# WCT (체감온도)\n",
    "train['WCT'] = 13.12 + 0.6125 * train['temperature'] - 11.37 * (train['windspeed'] **\n",
    "                                                                0.16) + 0.3965 * (train['windspeed'] ** 0.16) * train['temperature']\n",
    "test['WCT'] = 13.12 + 0.6125 * test['temperature'] - 11.37 * (test['windspeed'] **\n",
    "                                                                0.16) + 0.3965 * (test['windspeed'] ** 0.16) * test['temperature']"
   ]
  },
  {
   "cell_type": "code",
   "execution_count": null,
   "metadata": {},
   "outputs": [],
   "source": [
    "# day_hour_mean 계산\n",
    "power_mean = pd.pivot_table(train, values = 'power_consumption', index = ['building_number', 'hour', 'day_of_week'], aggfunc = np.mean).reset_index()\n",
    "power_mean.columns = ['building_number', 'hour', 'day_of_week', 'day_hour_mean']\n",
    "\n",
    "# day_hour_std 계산\n",
    "power_std = pd.pivot_table(train, values = 'power_consumption', index = ['building_number', 'hour', 'day_of_week'], aggfunc = np.std).reset_index()\n",
    "power_std.columns = ['building_number', 'hour', 'day_of_week', 'day_hour_std']\n",
    "\n",
    "# hour_mean 계산\n",
    "power_hour_mean = pd.pivot_table(train, values = 'power_consumption', index = ['building_number', 'hour'], aggfunc = np.mean).reset_index()\n",
    "power_hour_mean.columns = ['building_number', 'hour', 'hour_mean']\n",
    "\n",
    "# hour_std 계산\n",
    "power_hour_std = pd.pivot_table(train, values = 'power_consumption', index = ['building_number', 'hour'], aggfunc = np.std).reset_index()\n",
    "power_hour_std.columns = ['building_number', 'hour', 'hour_std']\n",
    "\n",
    "train = train.merge(power_mean, on = ['building_number', 'hour', 'day_of_week'], how = 'left')\n",
    "test = test.merge(power_mean, on = ['building_number', 'hour', 'day_of_week'], how = 'left')\n",
    "\n",
    "train = train.merge(power_std, on = ['building_number', 'hour', 'day_of_week'], how = 'left')\n",
    "test = test.merge(power_std, on = ['building_number', 'hour', 'day_of_week'], how = 'left')\n",
    "\n",
    "train = train.merge(power_hour_mean, on = ['building_number', 'hour'], how = 'left')\n",
    "test = test.merge(power_hour_mean, on = ['building_number', 'hour'], how = 'left')\n",
    "\n",
    "train = train.merge(power_hour_std, on = ['building_number', 'hour'], how = 'left')\n",
    "test = test.merge(power_hour_std, on = ['building_number', 'hour'], how = 'left')\n",
    "\n",
    "train = train.reset_index(drop = True)"
   ]
  },
  {
   "cell_type": "markdown",
   "metadata": {},
   "source": [
    "## 모델링"
   ]
  },
  {
   "cell_type": "code",
   "execution_count": null,
   "metadata": {},
   "outputs": [],
   "source": [
    "X = train.drop(['solar_power_capacity', 'ess_capacity', 'pcs_capacity',\n",
    "                'power_consumption','rainfall', 'sunshine', 'solar_radiation',\n",
    "                'hour','day','month','day_of_week','date_time'],axis = 1 )\n",
    "\n",
    "Y = train[['building_type','power_consumption']]\n",
    "\n",
    "test_X = test.drop(['solar_power_capacity', 'ess_capacity', 'pcs_capacity','rainfall',\n",
    "                   'hour','month','day_of_week','day','date_time'], axis = 1)"
   ]
  },
  {
   "cell_type": "code",
   "execution_count": null,
   "metadata": {},
   "outputs": [],
   "source": [
    "type_list = []\n",
    "for value in train.building_type.values:\n",
    "    if value not in type_list:\n",
    "        type_list.append(value)"
   ]
  },
  {
   "cell_type": "code",
   "execution_count": null,
   "metadata": {},
   "outputs": [],
   "source": [
    "# 건물 유형별 단일 모델\n",
    "xgb_best_params = pd.read_csv('xgb parameter')\n",
    "xgb_best_params['building_type'] = type_list\n",
    "xgb_best_params.set_index('building_type', inplace = True)"
   ]
  },
  {
   "cell_type": "code",
   "execution_count": null,
   "metadata": {},
   "outputs": [],
   "source": [
    "kf = KFold(n_splits = 7, shuffle = True, random_state = RANDOM_SEED)\n",
    "answer_df = pd.DataFrame(columns = ['answer'])\n",
    "pred_df = pd.DataFrame(columns = ['pred'])\n",
    "\n",
    "for i in type_list:\n",
    "\n",
    "    x = X[(X.building_type == i)]\n",
    "    y = Y[(Y.building_type == i)]\n",
    "    X_test = test_X[test_X.building_type == i]\n",
    "\n",
    "    x = pd.get_dummies(x, columns = ['building_number'], drop_first = False)\n",
    "    X_test = pd.get_dummies(X_test, columns = ['building_number'], drop_first = False)\n",
    "\n",
    "    x = x.drop(['building_number'], axis = 1)\n",
    "    X_test = X_test.drop(['building_type'], axis = 1)\n",
    "    y = y['power_consumption']\n",
    "    x_colimns = np.array(x.columns)\n",
    "    x = np.array(x) ; y = np.array(y)\n",
    "\n",
    "    j = 0\n",
    "    xgb_fold_smape = []\n",
    "    answer_list = []\n",
    "    pred = pd.DataFrame(index = range(0, y.shape[0]), columns = ['pred'])\n",
    "    answer = pd.DataFrame(columns = ['answer'])\n",
    "\n",
    "    for train_index, valid_index in kf.split(x):\n",
    "        j += 1\n",
    "\n",
    "        X_train, X_valid = x[train_index], x[valid_index]\n",
    "        Y_train, Y_valid = y[train_index], y[valid_index]\n",
    "        Y_train = np.log(Y_train) ; Y_valid = np.log(Y_valid)\n",
    "\n",
    "        evals = [(X_train, Y_train), (X_valid, Y_valid)]\n",
    "        xgb_model = XGBRegressor(\n",
    "            learning_rate = 0.05,\n",
    "            n_estimators = 5000,\n",
    "            max_depth = int(xgb_best_params.loc[i]['max_depth']),\n",
    "            random_state = RANDOM_SEED,\n",
    "            subsample = xgb_best_params.loc[i]['subsample'],\n",
    "            colsample_bytree = xgb_best_params.loc[i]['colsample_bytree'],\n",
    "            min_child_weight = int(xgb_best_params.loc[i]['min_child_weight']),\n",
    "            objective = weighted_mse(xgb_best_params.loc[i]['alpha'])\n",
    "        )\n",
    "\n",
    "        xgb_model.fit(X_train, Y_train, early_stopping_rounds = 100, \n",
    "                      eval_metric = custom_smape, eval_set = evals, verbose = False)\n",
    "        xgb_pred = xgb_model.predict(X_valid)\n",
    "        xgb_pred = np.exp(xgb_pred)\n",
    "        pred['pred'][valid_index] = xgb_pred\n",
    "        xgb_smape = smape(np.exp(Y_valid), xgb_pred)\n",
    "        xgb_answer = xgb_model.predict(X_test)\n",
    "        answer_list.append(np.exp(xgb_answer))\n",
    "        xgb_fold_smape.append(xgb_smape)\n",
    "\n",
    "        if j == 7:\n",
    "            sorted_idx = xgb_model.feature_importances_.argsort()\n",
    "            plt.figure(figsize = (12, 12))\n",
    "            plt.barh(x_columns[sorted_idx], xgb_model.feature_importances_[sorted_idx])\n",
    "            plt.xlabel('%s model XGB Feature Importance'%(i))\n",
    "            plt.show()\n",
    "\n",
    "    type_answer = sum(answer_list) / len(answer_list)\n",
    "\n",
    "    answer.answer = type_answer\n",
    "    answer_df = pd.concat([answer_df, answer], ignore_index = True)\n",
    "    pred_df = pd.concat([pred_df, pred], ignore_index = True)\n",
    "\n",
    "    avg_smape = sum(xgb_fold_smape) / len(xgb_fold_smape)\n",
    "    print('Building type = %s : XGBRegressor Model SMAPE : %.4f' %(i,avg_smape))\n",
    "\n",
    "total_score = smape(Y.power_consumption, pred_df.pred)\n",
    "print('Total SMAPE : %.4f' %(total_score))"
   ]
  }
 ],
 "metadata": {
  "kernelspec": {
   "display_name": "Python 3",
   "language": "python",
   "name": "python3"
  },
  "language_info": {
   "codemirror_mode": {
    "name": "ipython",
    "version": 3
   },
   "file_extension": ".py",
   "mimetype": "text/x-python",
   "name": "python",
   "nbconvert_exporter": "python",
   "pygments_lexer": "ipython3",
   "version": "3.11.2"
  },
  "orig_nbformat": 4
 },
 "nbformat": 4,
 "nbformat_minor": 2
}
