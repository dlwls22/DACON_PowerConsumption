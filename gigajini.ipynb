{
 "cells": [
  {
   "cell_type": "code",
   "execution_count": null,
   "metadata": {},
   "outputs": [],
   "source": [
    "import random\n",
    "import pandas as pd\n",
    "import numpy as np\n",
    "import os\n",
    "import time\n",
    "import datetime\n",
    "\n",
    "from sklearn.preprocessing import StandardScaler, MinMaxScaler\n",
    "from sklearn.ensemble import RandomForestRegressor\n",
    "from xgboost import XGBRegressor\n",
    "from lightgbm import LGBMRegressor\n",
    "from catboost import CatBoostRegressor\n",
    "from sklearn.tree import DecisionTreeRegressor\n",
    "from tqdm import tqdm\n",
    "\n",
    "import warnings\n",
    "warnings.filterwarnings(action='ignore') "
   ]
  },
  {
   "cell_type": "code",
   "execution_count": null,
   "metadata": {},
   "outputs": [],
   "source": [
    "def seed_everything(seed):\n",
    "    random.seed(seed)\n",
    "    os.environ['PYTHONHASHSEED'] = str(seed)\n",
    "    np.random.seed(seed)\n",
    "\n",
    "seed_everything(42) # Seed 고정"
   ]
  },
  {
   "cell_type": "code",
   "execution_count": null,
   "metadata": {},
   "outputs": [],
   "source": [
    "train_df = pd.read_csv(r'C:\\Users\\dlwks\\OneDrive\\바탕 화면\\VSCode\\DACON_전력사용량\\train.csv')\n",
    "test_df = pd.read_csv(r'C:\\Users\\dlwks\\OneDrive\\바탕 화면\\VSCode\\DACON_전력사용량\\test.csv')"
   ]
  },
  {
   "cell_type": "code",
   "execution_count": null,
   "metadata": {},
   "outputs": [],
   "source": [
    "train_df.info()"
   ]
  },
  {
   "cell_type": "code",
   "execution_count": null,
   "metadata": {},
   "outputs": [],
   "source": [
    "def SMAPE(y, pred):\n",
    "    smape = abs((y - pred)) / ((abs(y) + abs(pred)) / 2) * 100\n",
    "    smape = np.mean(smape)\n",
    "\n",
    "    return smape\n",
    "\n",
    "def mae(y, pred):\n",
    "\n",
    "    return np.mean(abs(y - pred))"
   ]
  },
  {
   "cell_type": "code",
   "execution_count": null,
   "metadata": {},
   "outputs": [],
   "source": [
    "# 결측치 처리\n",
    "train_df['풍속(m/s)'].fillna(train_df['풍속(m/s)'].mean(), inplace = True)\n",
    "train_df['습도(%)'].fillna(train_df['습도(%)'].mean(), inplace = True)\n",
    "train_df['강수량(mm)'].fillna(train_df['강수량(mm)'].mean(), inplace = True)\n",
    "train_df['일조(hr)'].fillna(0, inplace = True)\n",
    "train_df['일사(MJ/m2)'].fillna(0, inplace = True)\n",
    "\n",
    "test_df['일조(hr)'] = 0\n",
    "test_df['일사(MJ/m2)'] = 0\n",
    "test_df['강수량(mm)'].fillna(test_df['강수량(mm)'].mean(), inplace = True)"
   ]
  },
  {
   "cell_type": "code",
   "execution_count": null,
   "metadata": {},
   "outputs": [],
   "source": [
    "def weekday(s):\n",
    "    s = s.split()[0]\n",
    "    date = datetime.datetime.strptime(s, '%Y%m%d')\n",
    "    weekday = date.weekday()\n",
    "\n",
    "    return weekday"
   ]
  },
  {
   "cell_type": "code",
   "execution_count": null,
   "metadata": {},
   "outputs": [],
   "source": [
    "# 공휴일 : [0601, 0606, 0815]\n",
    "specialday = ['20220601', '20220606', '20220815']"
   ]
  },
  {
   "cell_type": "code",
   "execution_count": null,
   "metadata": {},
   "outputs": [],
   "source": [
    "train_df['month'] = train_df['일시'].apply(lambda x : int(x[4:6]))\n",
    "train_df['day'] = train_df['일시'].apply(lambda x : int(x[6:8]))\n",
    "train_df['time'] = train_df['일시'].apply(lambda x : int(x[9:11]))\n",
    "train_df['6월'] = train_df['month'].apply(lambda x: 1 if x == 6 else 0)\n",
    "train_df['7월'] = train_df['month'].apply(lambda x: 1 if x == 7 else 0)\n",
    "train_df['8월'] = train_df['month'].apply(lambda x: 1 if x == 8 else 0)\n",
    "train_df['낮'] = train_df['time'].apply(lambda x: 1 if (x >= 8 and x <= 19) else 0)\n",
    "train_df['밤'] = train_df['time'].apply(lambda x: 1 if (x < 8 or x >= 19) else 0)\n",
    "train_df['요일'] = train_df['일시'].apply(weekday)\n",
    "train_df['specialday'] = train_df['일시'].apply(lambda x: 1 if x in specialday else 0)\n",
    "train_df['THI'] = 9 / 5 * train_df['기온(C)'] - 0.55 * (1 - train_df['습도(%)'] / 100) * (9 / 5 * train_df['습도(%)'] - 26) + 32\n",
    "\n",
    "test_df['month'] = test_df['일시'].apply(lambda x : int(x[4:6]))\n",
    "test_df['day'] = test_df['일시'].apply(lambda x : int(x[6:8]))\n",
    "test_df['time'] = test_df['일시'].apply(lambda x : int(x[9:11]))\n",
    "test_df['6월'] = test_df['month'].apply(lambda x: 1 if x == 6 else 0)\n",
    "test_df['7월'] = test_df['month'].apply(lambda x: 1 if x == 7 else 0)\n",
    "test_df['8월'] = test_df['month'].apply(lambda x: 1 if x == 8 else 0)\n",
    "test_df['낮'] = test_df['time'].apply(lambda x: 1 if (x >= 8 and x <= 19) else 0)\n",
    "test_df['밤'] = test_df['time'].apply(lambda x: 1 if (x < 8 or x >= 19) else 0)\n",
    "test_df['요일'] = test_df['일시'].apply(weekday)\n",
    "test_df['specialday'] = 0\n",
    "test_df['THI'] = 9 / 5 * test_df['기온(C)'] - 0.55 * (1 - test_df['습도(%)'] / 100) * (9 / 5 * test_df['습도(%)'] - 26) + 32"
   ]
  },
  {
   "cell_type": "code",
   "execution_count": null,
   "metadata": {},
   "outputs": [],
   "source": [
    "train_df"
   ]
  },
  {
   "cell_type": "code",
   "execution_count": null,
   "metadata": {},
   "outputs": [],
   "source": [
    "for i in range(1, 101):\n",
    "    df = train_df[train_df['건물번호'] == i]\n",
    "    train_df.loc[df.index, '기온_gap'] = df['기온(C)'] - df.shift(1)['기온(C)']\n",
    "    train_df.loc[df.index, '풍속_gap'] = df['풍속(m/s)'] - df.shift(1)['풍속(m/s)']\n",
    "    train_df.loc[df.index, '습도_gap'] = df['습도(%)'] - df.shift(1)['습도(%)']\n",
    "\n",
    "train_df['기온_gap'].fillna(train_df['기온_gap'].mean(), inplace = True)\n",
    "train_df['풍속_gap'].fillna(train_df['풍속_gap'].mean(), inplace = True)\n",
    "train_df['습도_gap'].fillna(train_df['습도_gap'].mean(), inplace = True)\n",
    "train_df"
   ]
  },
  {
   "cell_type": "code",
   "execution_count": null,
   "metadata": {},
   "outputs": [],
   "source": [
    "for i in range(1, 101):\n",
    "    df = test_df[test_df['건물번호'] == i]\n",
    "    test_df.loc[df.index, '기온_gap'] = df['기온(C)'] - df.shift(1)['기온(C)']\n",
    "    test_df.loc[df.index, '풍속_gap'] = df['풍속(m/s)'] - df.shift(1)['풍속(m/s)']\n",
    "    test_df.loc[df.index, '습도_gap'] = df['습도(%)'] - df.shift(1)['습도(%)']\n",
    "\n",
    "test_df['기온_gap'].fillna(test_df['기온_gap'].mean(), inplace = True)\n",
    "test_df['풍속_gap'].fillna(test_df['풍속_gap'].mean(), inplace = True)\n",
    "test_df['습도_gap'].fillna(test_df['습도_gap'].mean(), inplace = True)\n",
    "test_df"
   ]
  },
  {
   "cell_type": "code",
   "execution_count": null,
   "metadata": {},
   "outputs": [],
   "source": [
    "# 날짜 범위 설정\n",
    "start_date_train = '20220601'\n",
    "end_date_train = '20220821'\n",
    "end_date_val = '20220824'\n",
    "\n",
    "# 날짜 범위에 해당하는 인덱스 추출\n",
    "train_indices = (train_df['일시'] >= start_date_train) & (train_df['일시'] <= end_date_train)\n",
    "val_indices = (train_df['일시'] > end_date_train) & (train_df['일시'] <= end_date_val)"
   ]
  },
  {
   "cell_type": "code",
   "execution_count": null,
   "metadata": {},
   "outputs": [],
   "source": [
    "X_train = train_df.drop(columns=['num_date_time', '일시', '일조(hr)', '일사(MJ/m2)', '전력소비량(kWh)'])\n",
    "y_train = train_df['전력소비량(kWh)']\n",
    "test_df.drop(columns=['num_date_time', '일시', '일조(hr)', '일사(MJ/m2)'], inplace = True)"
   ]
  },
  {
   "cell_type": "code",
   "execution_count": null,
   "metadata": {},
   "outputs": [],
   "source": [
    "X_train.head()"
   ]
  },
  {
   "cell_type": "code",
   "execution_count": null,
   "metadata": {},
   "outputs": [],
   "source": [
    "# 훈련 및 검증 데이터 분할\n",
    "X_train_split = X_train[train_indices]\n",
    "X_val_split = X_train[val_indices]\n",
    "y_train_split = y_train[train_indices]\n",
    "y_val_split = y_train[val_indices]"
   ]
  },
  {
   "cell_type": "code",
   "execution_count": null,
   "metadata": {},
   "outputs": [],
   "source": [
    "# XGBRegressor\n",
    "xgb_params = {\n",
    "    'learning_rate': 0.07,\n",
    "    'max_depth': 50,\n",
    "    'colsample_bytree' : 0.8,\n",
    "    'min_child_weight': 10,\n",
    "    'n_estimators': 100\n",
    "}\n",
    "\n",
    "# LGBMRegressor\n",
    "lgbm_params = {\n",
    "    'learning_rate': 0.07,\n",
    "    'max_depth': 50,\n",
    "    'min_child_samples': 5,\n",
    "    'num_leaves' : 100,\n",
    "    'n_estimators': 100\n",
    "}\n",
    "\n",
    "# RandomForestRegressor\n",
    "rf_params = {\n",
    "    'n_estimators': 100,\n",
    "    'max_depth': 50,\n",
    "    'min_samples_split': 3,\n",
    "    'min_samples_leaf': 3,\n",
    "    'random_state': 42\n",
    "}\n",
    "\n",
    "# DecisionTreeRegressor\n",
    "dt_params = {\n",
    "    'max_depth': 50,\n",
    "    'min_samples_split': 3,\n",
    "    'min_samples_leaf': 3,\n",
    "    'random_state': 42\n",
    "}"
   ]
  },
  {
   "cell_type": "code",
   "execution_count": null,
   "metadata": {},
   "outputs": [],
   "source": [
    "models_by_building = {}\n",
    "\n",
    "for building_num in range(1, 101):\n",
    "    building_data = X_train_split[X_train_split['건물번호'] == building_num]\n",
    "    building_target = y_train_split[X_train_split['건물번호'] == building_num]\n",
    "\n",
    "    # 각 모델별로 생성 및 학습\n",
    "    xgb_model = XGBRegressor(\n",
    "        objective='reg:squarederror',\n",
    "        random_state=42,\n",
    "        **xgb_params\n",
    "    )\n",
    "    xgb_model.fit(building_data, building_target)\n",
    "\n",
    "    lgbm_model = LGBMRegressor(\n",
    "        objective='regression',\n",
    "        random_state=42,\n",
    "        **lgbm_params\n",
    "    )\n",
    "    lgbm_model.fit(building_data, building_target)\n",
    "\n",
    "    rf_model = RandomForestRegressor(**rf_params)\n",
    "    rf_model.fit(building_data, building_target)\n",
    "\n",
    "    dt_model = DecisionTreeRegressor(**dt_params)\n",
    "    dt_model.fit(building_data, building_target)\n",
    "\n",
    "    models_by_building[building_num] = {\n",
    "        'xgb': xgb_model,\n",
    "        'lgbm': lgbm_model,\n",
    "        'rf': rf_model,\n",
    "        'dt': dt_model\n",
    "    }\n",
    "\n",
    "\n",
    "print(\"Training completed for all buildings.\")\n",
    "\n",
    "ensemble_preds_by_building = {}\n",
    "for building_num in range(1, 101):\n",
    "    building_data = X_val_split[X_val_split['건물번호'] == building_num]\n",
    "\n",
    "    xgb_preds = models_by_building[building_num]['xgb'].predict(building_data)\n",
    "    lgbm_preds = models_by_building[building_num]['lgbm'].predict(building_data)\n",
    "    rf_preds = models_by_building[building_num]['rf'].predict(building_data)\n",
    "    dt_preds = models_by_building[building_num]['dt'].predict(building_data)\n",
    "\n",
    "    ensemble_preds = (rf_preds + xgb_preds + lgbm_preds + dt_preds) / 4\n",
    "    ensemble_preds_by_building[building_num] = ensemble_preds\n",
    "\n",
    "print(\"Prediction completed for all buildings.\")"
   ]
  },
  {
   "cell_type": "code",
   "execution_count": null,
   "metadata": {},
   "outputs": [],
   "source": [
    "val_smape_best = 0\n",
    "for building_num in range(1, 101):\n",
    "    val_smape = SMAPE(y_val_split[X_val_split['건물번호'] == building_num], ensemble_preds_by_building[building_num])\n",
    "    val_smape_best += val_smape\n",
    "\n",
    "val_smape_best /= 100  # 전체 건물 수로 나누어 평균 계산\n",
    "print(\"Average Validation SMAPE:\", val_smape_best)\n",
    "\n",
    "y_test_pred_best = np.array([])\n",
    "for building_num in range(1, 101):\n",
    "    test_building_data = test_df[test_df['건물번호'] == building_num]\n",
    "\n",
    "    xgb_preds = models_by_building[building_num]['xgb'].predict(test_building_data)\n",
    "    lgbm_preds = models_by_building[building_num]['lgbm'].predict(test_building_data)\n",
    "    rf_preds = models_by_building[building_num]['rf'].predict(test_building_data)\n",
    "    dt_preds = models_by_building[building_num]['dt'].predict(test_building_data)\n",
    "\n",
    "    ensemble_preds = (rf_preds + xgb_preds + lgbm_preds + dt_preds) / 4\n",
    "    y_test_pred_best = np.concatenate((y_test_pred_best, ensemble_preds))"
   ]
  },
  {
   "cell_type": "code",
   "execution_count": null,
   "metadata": {},
   "outputs": [],
   "source": [
    "submission = pd.read_csv(r'C:\\Users\\dlwks\\OneDrive\\바탕 화면\\VSCode\\DACON_전력사용량\\sample_submission.csv')\n",
    "submission"
   ]
  },
  {
   "cell_type": "code",
   "execution_count": null,
   "metadata": {},
   "outputs": [],
   "source": [
    "submission['answer'] = y_test_pred_best"
   ]
  },
  {
   "cell_type": "code",
   "execution_count": null,
   "metadata": {},
   "outputs": [],
   "source": [
    "submission.tail(60)"
   ]
  },
  {
   "cell_type": "code",
   "execution_count": null,
   "metadata": {},
   "outputs": [],
   "source": [
    "# submission.to_csv('C:/Users/dlwks/OneDrive/바탕 화면/VSCode/DACON_전력사용량/0828-2.csv', index=False)"
   ]
  },
  {
   "cell_type": "code",
   "execution_count": null,
   "metadata": {},
   "outputs": [],
   "source": []
  }
 ],
 "metadata": {
  "kernelspec": {
   "display_name": "Python 3",
   "language": "python",
   "name": "python3"
  },
  "language_info": {
   "codemirror_mode": {
    "name": "ipython",
    "version": 3
   },
   "file_extension": ".py",
   "mimetype": "text/x-python",
   "name": "python",
   "nbconvert_exporter": "python",
   "pygments_lexer": "ipython3",
   "version": "3.11.2"
  },
  "orig_nbformat": 4
 },
 "nbformat": 4,
 "nbformat_minor": 2
}
